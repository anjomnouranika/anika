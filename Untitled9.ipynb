{
  "nbformat": 4,
  "nbformat_minor": 0,
  "metadata": {
    "colab": {
      "name": "Untitled9.ipynb",
      "provenance": [],
      "authorship_tag": "ABX9TyNUkxSt/9UdGcV1ew+xBWum",
      "include_colab_link": true
    },
    "kernelspec": {
      "name": "python3",
      "display_name": "Python 3"
    }
  },
  "cells": [
    {
      "cell_type": "markdown",
      "metadata": {
        "id": "view-in-github",
        "colab_type": "text"
      },
      "source": [
        "<a href=\"https://colab.research.google.com/github/anjomnouranika/anika/blob/master/Untitled9.ipynb\" target=\"_parent\"><img src=\"https://colab.research.google.com/assets/colab-badge.svg\" alt=\"Open In Colab\"/></a>"
      ]
    },
    {
      "cell_type": "code",
      "metadata": {
        "id": "0rOj4eDqVFCf",
        "colab_type": "code",
        "colab": {
          "base_uri": "https://localhost:8080/",
          "height": 51
        },
        "outputId": "16ad9316-2038-4985-c69b-bc9981e6f871"
      },
      "source": [
        "char = input(\"Enter the alphabate:\")\n",
        "if (char >= 'a' and char <= 'z'):\n",
        "  print(\"the alphabate is lowercase\")\n",
        "elif (char >= 'A' and char <= 'Z'):\n",
        "  print(\" the alphabate is upercase\")\n",
        "else:\n",
        "  print(\"It's not alphabate\")    "
      ],
      "execution_count": null,
      "outputs": [
        {
          "output_type": "stream",
          "text": [
            "Enter the alphabate:1\n",
            "It's not alphabate\n"
          ],
          "name": "stdout"
        }
      ]
    },
    {
      "cell_type": "code",
      "metadata": {
        "id": "o0n5aFqVWqAX",
        "colab_type": "code",
        "colab": {
          "base_uri": "https://localhost:8080/",
          "height": 51
        },
        "outputId": "b578b09a-eaa7-47c7-d3ac-160356e9b285"
      },
      "source": [
        "char = input(\"Enter the alphabate:\")[0]\n",
        "if (char.isupper()) :\n",
        "  print(\"uppercase\")\n",
        "elif (char.islower()):\n",
        "  print(\"lowercase\")\n",
        "else:\n",
        "  print(\"not alphabate\")    "
      ],
      "execution_count": null,
      "outputs": [
        {
          "output_type": "stream",
          "text": [
            "Enter the alphabate:C\n",
            "uppercase\n"
          ],
          "name": "stdout"
        }
      ]
    }
  ]
}