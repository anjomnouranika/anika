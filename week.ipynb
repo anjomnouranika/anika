{
  "nbformat": 4,
  "nbformat_minor": 0,
  "metadata": {
    "colab": {
      "name": "week.ipynb",
      "provenance": [],
      "collapsed_sections": [],
      "authorship_tag": "ABX9TyOf4lzsbM0NO7IZOZkz270M",
      "include_colab_link": true
    },
    "kernelspec": {
      "name": "python3",
      "display_name": "Python 3"
    }
  },
  "cells": [
    {
      "cell_type": "markdown",
      "metadata": {
        "id": "view-in-github",
        "colab_type": "text"
      },
      "source": [
        "<a href=\"https://colab.research.google.com/github/anjomnouranika/anika/blob/master/week.ipynb\" target=\"_parent\"><img src=\"https://colab.research.google.com/assets/colab-badge.svg\" alt=\"Open In Colab\"/></a>"
      ]
    },
    {
      "cell_type": "code",
      "metadata": {
        "id": "52MXaYFTUQEi",
        "colab_type": "code",
        "colab": {
          "base_uri": "https://localhost:8080/",
          "height": 51
        },
        "outputId": "1ade8ba7-47ed-47f4-8d7d-8b185bdd077f"
      },
      "source": [
        "week = int(input(\"Enter the week number =\"))\n",
        "if week == 1:\n",
        "  print(\"monday\")\n",
        "elif week == 2:\n",
        "  print(\"Tuesday\") \n",
        "elif week == 3:\n",
        "  print(\"wednesday\")\n",
        "elif week == 4:\n",
        "  print(\"thursday\")\n",
        "elif week == 5: \n",
        "  print(\"friday\")\n",
        "elif week == 6:\n",
        "  print(\"saturday\") \n",
        "elif week == 7:\n",
        "  print(\"sunday\")\n",
        "else:\n",
        "  print(\"please enter amoung 1 tp 7\")           "
      ],
      "execution_count": 4,
      "outputs": [
        {
          "output_type": "stream",
          "text": [
            "Enter the week number =4\n",
            "thursday\n"
          ],
          "name": "stdout"
        }
      ]
    }
  ]
}