{
  "nbformat": 4,
  "nbformat_minor": 0,
  "metadata": {
    "colab": {
      "name": "Untitled6.ipynb",
      "provenance": [],
      "collapsed_sections": [],
      "authorship_tag": "ABX9TyPeukYivkCTaNggmTwUgtFR",
      "include_colab_link": true
    },
    "kernelspec": {
      "name": "python3",
      "display_name": "Python 3"
    }
  },
  "cells": [
    {
      "cell_type": "markdown",
      "metadata": {
        "id": "view-in-github",
        "colab_type": "text"
      },
      "source": [
        "<a href=\"https://colab.research.google.com/github/anjomnouranika/anika/blob/master/Untitled6.ipynb\" target=\"_parent\"><img src=\"https://colab.research.google.com/assets/colab-badge.svg\" alt=\"Open In Colab\"/></a>"
      ]
    },
    {
      "cell_type": "code",
      "metadata": {
        "id": "onGpxZf92ade",
        "colab_type": "code",
        "colab": {
          "base_uri": "https://localhost:8080/",
          "height": 51
        },
        "outputId": "90de16bc-91ad-4a8d-86c3-1df572f08bc7"
      },
      "source": [
        "ch = input(\"enter the character: \")  \n",
        "if ((ch >= 'a' and ch <= 'z') or (ch >= 'A' and ch <= 'Z')) :\n",
        "   print(\"alphabate\")\n",
        "else:\n",
        "   print(\"not alphabate\")  "
      ],
      "execution_count": null,
      "outputs": [
        {
          "output_type": "stream",
          "text": [
            "enter the character: @\n",
            "not alphabate\n"
          ],
          "name": "stdout"
        }
      ]
    },
    {
      "cell_type": "code",
      "metadata": {
        "id": "GXiNi0yM8M4g",
        "colab_type": "code",
        "colab": {
          "base_uri": "https://localhost:8080/",
          "height": 51
        },
        "outputId": "ea60bb58-b4a9-4662-8ca9-a83509963ef8"
      },
      "source": [
        "ch = input(\"Enter a character: \")\n",
        "if((ch>='a' and ch<= 'z') or (ch>='A' and ch<='Z')):\n",
        "    print(ch, \"is an Alphabet\")\n",
        "else:\n",
        "    print(ch, \"is not an Alphabet\")"
      ],
      "execution_count": null,
      "outputs": [
        {
          "output_type": "stream",
          "text": [
            "Enter a character: 1\n",
            "1 is not an Alphabet\n"
          ],
          "name": "stdout"
        }
      ]
    }
  ]
}